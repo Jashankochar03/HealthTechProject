{
 "cells": [
  {
   "cell_type": "code",
   "execution_count": 1,
   "id": "33633913",
   "metadata": {},
   "outputs": [],
   "source": [
    "import os"
   ]
  },
  {
   "cell_type": "code",
   "execution_count": 2,
   "id": "20546132",
   "metadata": {},
   "outputs": [
    {
     "data": {
      "text/plain": [
       "'c:\\\\SkinDiseaseProject\\\\skin_disease_predictor\\\\research'"
      ]
     },
     "execution_count": 2,
     "metadata": {},
     "output_type": "execute_result"
    }
   ],
   "source": [
    "%pwd"
   ]
  },
  {
   "cell_type": "code",
   "execution_count": 3,
   "id": "6af06596",
   "metadata": {},
   "outputs": [],
   "source": [
    "os.chdir(\"../\")"
   ]
  },
  {
   "cell_type": "code",
   "execution_count": 4,
   "id": "8d6f8afb",
   "metadata": {},
   "outputs": [
    {
     "data": {
      "text/plain": [
       "'c:\\\\SkinDiseaseProject\\\\skin_disease_predictor'"
      ]
     },
     "execution_count": 4,
     "metadata": {},
     "output_type": "execute_result"
    }
   ],
   "source": [
    "%pwd"
   ]
  },
  {
   "cell_type": "code",
   "execution_count": 5,
   "id": "b1b5bf5b",
   "metadata": {},
   "outputs": [],
   "source": [
    "from dataclasses import dataclass\n",
    "from pathlib import Path\n",
    "\n",
    "@dataclass(frozen=True)\n",
    "class DataIngestionConfig:\n",
    "    root_dir: Path\n",
    "    source_URL: str\n",
    "    local_data_file:str\n",
    "    unzip_dir:Path   \n"
   ]
  },
  {
   "cell_type": "code",
   "execution_count": 6,
   "id": "9cfe3f6e",
   "metadata": {},
   "outputs": [],
   "source": [
    "from Acne_Prediction.constants import *\n",
    "from Acne_Prediction.utils.common import read_yaml, create_directories\n"
   ]
  },
  {
   "cell_type": "code",
   "execution_count": 7,
   "id": "f8edecad",
   "metadata": {},
   "outputs": [],
   "source": [
    "class ConfigurationManager:\n",
    "    def __init__(self,config_filepath = CONFIG_FILE_PATH,params_filepath = PARAMS_FILE_PATH):\n",
    "        self.config = read_yaml(config_filepath)\n",
    "        self.params = read_yaml(params_filepath)\n",
    "        create_directories([self.config.artifacts_root])    \n",
    "    \n",
    "    def get_data_ingestion_config(self) -> DataIngestionConfig:\n",
    "        config = self.config.data_ingestion\n",
    "\n",
    "        create_directories([config.root_dir])\n",
    "        data_ingestion_config = DataIngestionConfig(\n",
    "            root_dir=config.root_dir,\n",
    "            source_URL=config.source_URL,\n",
    "            local_data_file=config.local_data_file,\n",
    "            unzip_dir=config.unzip_dir,\n",
    "        )\n",
    "        return data_ingestion_config"
   ]
  },
  {
   "cell_type": "code",
   "execution_count": 8,
   "id": "a5078e43",
   "metadata": {},
   "outputs": [],
   "source": [
    "import os\n",
    "import urllib.request as request\n",
    "import zipfile\n",
    "import gdown\n",
    "from Acne_Prediction import logger\n",
    "from Acne_Prediction.utils.common import get_size "
   ]
  },
  {
   "cell_type": "code",
   "execution_count": 9,
   "id": "80c5112a",
   "metadata": {},
   "outputs": [],
   "source": [
    "class DataIngestion:\n",
    "    def __init__(self, config: DataIngestionConfig):\n",
    "        self.config = config\n",
    "    \n",
    "    def download_file(self):\n",
    "        \"\"\"\n",
    "        Downloads the file from Google Drive or any URL and saves it locally.\n",
    "        Uses gdown for Google Drive links.\n",
    "        \"\"\"\n",
    "        if not os.path.exists(self.config.local_data_file):\n",
    "            # Extract file id from Google Drive link\n",
    "            file_id = self.config.source_URL.split('/d/')[1].split('/')[0]\n",
    "            download_url = f\"https://drive.google.com/uc?id={file_id}\"\n",
    "            gdown.download(download_url, self.config.local_data_file, quiet=False)\n",
    "            logger.info(f\"Downloaded file to {self.config.local_data_file}\")\n",
    "        else:\n",
    "            logger.info(f\"{self.config.local_data_file} already exists of size {get_size(self.config.local_data_file)}\")\n",
    "    def extract_zip_file(self):\n",
    "        \"\"\"\n",
    "        zip_file_path :str\n",
    "        Extracts the zip file at zip_file_path to the destination directory\n",
    "        Function return none\n",
    "        \"\"\"\n",
    "        unzip_path = self.config.unzip_dir\n",
    "        os.makedirs(unzip_path, exist_ok=True)\n",
    "        with zipfile.ZipFile(self.config.local_data_file, 'r') as zip_ref:\n",
    "            zip_ref.extractall(unzip_path)\n",
    "            logger.info(f\"Extracted zip file to {unzip_path}\")\n",
    "        \n",
    "        "
   ]
  },
  {
   "cell_type": "code",
   "execution_count": 10,
   "id": "ea36760c",
   "metadata": {},
   "outputs": [
    {
     "name": "stdout",
     "output_type": "stream",
     "text": [
      "[2025-04-21 21:02:17,522: Successfully loaded configuration from config\\config.yaml: common: Successfully loaded configuration from config\\config.yaml]\n",
      "[2025-04-21 21:02:17,523: Successfully loaded configuration from params.yaml: common: Successfully loaded configuration from params.yaml]\n",
      "[2025-04-21 21:02:17,523: created directory at artifacts: common: created directory at artifacts]\n",
      "[2025-04-21 21:02:17,524: created directory at artifacts/data_ingestion: common: created directory at artifacts/data_ingestion]\n"
     ]
    },
    {
     "name": "stderr",
     "output_type": "stream",
     "text": [
      "Downloading...\n",
      "From (original): https://drive.google.com/uc?id=1wsjksh4NHOgVX2vwcClBZTSyz8N16lb-\n",
      "From (redirected): https://drive.google.com/uc?id=1wsjksh4NHOgVX2vwcClBZTSyz8N16lb-&confirm=t&uuid=68704748-d1d6-48ea-98c1-88b5d295b3f7\n",
      "To: c:\\SkinDiseaseProject\\skin_disease_predictor\\artifacts\\data_ingestion\\4classData.zip\n",
      "100%|██████████| 1.08G/1.08G [05:26<00:00, 3.31MB/s]"
     ]
    },
    {
     "name": "stdout",
     "output_type": "stream",
     "text": [
      "[2025-04-21 21:07:49,165: Downloaded file to artifacts/data_ingestion/4classData.zip: 2236992415: Downloaded file to artifacts/data_ingestion/4classData.zip]\n"
     ]
    },
    {
     "name": "stderr",
     "output_type": "stream",
     "text": [
      "\n"
     ]
    },
    {
     "name": "stdout",
     "output_type": "stream",
     "text": [
      "[2025-04-21 21:07:56,925: Extracted zip file to artifacts/data_ingestion: 2236992415: Extracted zip file to artifacts/data_ingestion]\n"
     ]
    }
   ],
   "source": [
    "try:\n",
    "    config = ConfigurationManager()\n",
    "    data_ingestion_config = config.get_data_ingestion_config()\n",
    "    data_ingestion = DataIngestion(config=data_ingestion_config)\n",
    "    data_ingestion.download_file()\n",
    "    data_ingestion.extract_zip_file()\n",
    "except Exception as e:\n",
    "    raise e"
   ]
  },
  {
   "cell_type": "code",
   "execution_count": null,
   "id": "24effe35",
   "metadata": {},
   "outputs": [],
   "source": []
  }
 ],
 "metadata": {
  "kernelspec": {
   "display_name": "Python 3",
   "language": "python",
   "name": "python3"
  },
  "language_info": {
   "codemirror_mode": {
    "name": "ipython",
    "version": 3
   },
   "file_extension": ".py",
   "mimetype": "text/x-python",
   "name": "python",
   "nbconvert_exporter": "python",
   "pygments_lexer": "ipython3",
   "version": "3.12.9"
  }
 },
 "nbformat": 4,
 "nbformat_minor": 5
}
